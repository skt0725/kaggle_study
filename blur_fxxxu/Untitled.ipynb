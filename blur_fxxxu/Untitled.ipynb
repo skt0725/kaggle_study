{
 "cells": [
  {
   "cell_type": "code",
   "execution_count": 4,
   "id": "5b1c818f",
   "metadata": {},
   "outputs": [],
   "source": [
    "%run fy_filter.py"
   ]
  },
  {
   "cell_type": "code",
   "execution_count": null,
   "id": "29c59478",
   "metadata": {},
   "outputs": [],
   "source": [
    "%run single.py"
   ]
  },
  {
   "cell_type": "code",
   "execution_count": null,
   "id": "0925aa35",
   "metadata": {},
   "outputs": [],
   "source": []
  }
 ],
 "metadata": {
  "kernelspec": {
   "display_name": "kaggle",
   "language": "python",
   "name": "kaggle"
  },
  "language_info": {
   "codemirror_mode": {
    "name": "ipython",
    "version": 3
   },
   "file_extension": ".py",
   "mimetype": "text/x-python",
   "name": "python",
   "nbconvert_exporter": "python",
   "pygments_lexer": "ipython3",
   "version": "3.7.11"
  }
 },
 "nbformat": 4,
 "nbformat_minor": 5
}
